{
  "nbformat": 4,
  "nbformat_minor": 0,
  "metadata": {
    "colab": {
      "provenance": [],
      "gpuType": "T4",
      "authorship_tag": "ABX9TyMsG2ftkZyMc0sHftsRKqo5",
      "include_colab_link": true
    },
    "kernelspec": {
      "name": "python3",
      "display_name": "Python 3"
    },
    "language_info": {
      "name": "python"
    },
    "accelerator": "GPU"
  },
  "cells": [
    {
      "cell_type": "markdown",
      "metadata": {
        "id": "view-in-github",
        "colab_type": "text"
      },
      "source": [
        "<a href=\"https://colab.research.google.com/github/Riti13/case_study_McDonalds/blob/main/McDonalds_case_study.ipynb\" target=\"_parent\"><img src=\"https://colab.research.google.com/assets/colab-badge.svg\" alt=\"Open In Colab\"/></a>"
      ]
    },
    {
      "cell_type": "code",
      "execution_count": null,
      "metadata": {
        "id": "z3z2Hw_vMln4"
      },
      "outputs": [],
      "source": [
        "import pandas as pd\n",
        "import numpy as np\n",
        "import matplotlib.pyplot as plt\n",
        "import seaborn as sns"
      ]
    },
    {
      "cell_type": "code",
      "source": [
        "data=pd.read_csv('/content/mcdonalds.csv')"
      ],
      "metadata": {
        "id": "xG3sd96svjCB"
      },
      "execution_count": null,
      "outputs": []
    },
    {
      "cell_type": "code",
      "source": [
        "data.info()"
      ],
      "metadata": {
        "colab": {
          "base_uri": "https://localhost:8080/"
        },
        "id": "EO40a4xivjjC",
        "outputId": "20a2a06d-3800-4a70-e7ce-882115f5fe63"
      },
      "execution_count": null,
      "outputs": [
        {
          "output_type": "stream",
          "name": "stdout",
          "text": [
            "<class 'pandas.core.frame.DataFrame'>\n",
            "RangeIndex: 1453 entries, 0 to 1452\n",
            "Data columns (total 15 columns):\n",
            " #   Column          Non-Null Count  Dtype \n",
            "---  ------          --------------  ----- \n",
            " 0   yummy           1453 non-null   object\n",
            " 1   convenient      1453 non-null   object\n",
            " 2   spicy           1453 non-null   object\n",
            " 3   fattening       1453 non-null   object\n",
            " 4   greasy          1453 non-null   object\n",
            " 5   fast            1453 non-null   object\n",
            " 6   cheap           1453 non-null   object\n",
            " 7   tasty           1453 non-null   object\n",
            " 8   expensive       1453 non-null   object\n",
            " 9   healthy         1453 non-null   object\n",
            " 10  disgusting      1453 non-null   object\n",
            " 11  Like            1453 non-null   object\n",
            " 12  Age             1453 non-null   int64 \n",
            " 13  VisitFrequency  1453 non-null   object\n",
            " 14  Gender          1453 non-null   object\n",
            "dtypes: int64(1), object(14)\n",
            "memory usage: 170.4+ KB\n"
          ]
        }
      ]
    },
    {
      "cell_type": "code",
      "source": [
        "data.head()"
      ],
      "metadata": {
        "colab": {
          "base_uri": "https://localhost:8080/",
          "height": 206
        },
        "id": "S8gUnIWkvjmg",
        "outputId": "4db8e473-1412-47a4-c82b-c118b9191ccb"
      },
      "execution_count": null,
      "outputs": [
        {
          "output_type": "execute_result",
          "data": {
            "text/plain": [
              "  yummy convenient spicy fattening greasy fast cheap tasty expensive healthy  \\\n",
              "0    No        Yes    No       Yes     No  Yes   Yes    No       Yes      No   \n",
              "1   Yes        Yes    No       Yes    Yes  Yes   Yes   Yes       Yes      No   \n",
              "2    No        Yes   Yes       Yes    Yes  Yes    No   Yes       Yes     Yes   \n",
              "3   Yes        Yes    No       Yes    Yes  Yes   Yes   Yes        No      No   \n",
              "4    No        Yes    No       Yes    Yes  Yes   Yes    No        No     Yes   \n",
              "\n",
              "  disgusting Like  Age      VisitFrequency  Gender  \n",
              "0         No   -3   61  Every three months  Female  \n",
              "1         No   +2   51  Every three months  Female  \n",
              "2         No   +1   62  Every three months  Female  \n",
              "3        Yes   +4   69         Once a week  Female  \n",
              "4         No   +2   49        Once a month    Male  "
            ],
            "text/html": [
              "\n",
              "  <div id=\"df-009ec7ae-c78b-4f0b-a6f9-a6d91ad54b5e\" class=\"colab-df-container\">\n",
              "    <div>\n",
              "<style scoped>\n",
              "    .dataframe tbody tr th:only-of-type {\n",
              "        vertical-align: middle;\n",
              "    }\n",
              "\n",
              "    .dataframe tbody tr th {\n",
              "        vertical-align: top;\n",
              "    }\n",
              "\n",
              "    .dataframe thead th {\n",
              "        text-align: right;\n",
              "    }\n",
              "</style>\n",
              "<table border=\"1\" class=\"dataframe\">\n",
              "  <thead>\n",
              "    <tr style=\"text-align: right;\">\n",
              "      <th></th>\n",
              "      <th>yummy</th>\n",
              "      <th>convenient</th>\n",
              "      <th>spicy</th>\n",
              "      <th>fattening</th>\n",
              "      <th>greasy</th>\n",
              "      <th>fast</th>\n",
              "      <th>cheap</th>\n",
              "      <th>tasty</th>\n",
              "      <th>expensive</th>\n",
              "      <th>healthy</th>\n",
              "      <th>disgusting</th>\n",
              "      <th>Like</th>\n",
              "      <th>Age</th>\n",
              "      <th>VisitFrequency</th>\n",
              "      <th>Gender</th>\n",
              "    </tr>\n",
              "  </thead>\n",
              "  <tbody>\n",
              "    <tr>\n",
              "      <th>0</th>\n",
              "      <td>No</td>\n",
              "      <td>Yes</td>\n",
              "      <td>No</td>\n",
              "      <td>Yes</td>\n",
              "      <td>No</td>\n",
              "      <td>Yes</td>\n",
              "      <td>Yes</td>\n",
              "      <td>No</td>\n",
              "      <td>Yes</td>\n",
              "      <td>No</td>\n",
              "      <td>No</td>\n",
              "      <td>-3</td>\n",
              "      <td>61</td>\n",
              "      <td>Every three months</td>\n",
              "      <td>Female</td>\n",
              "    </tr>\n",
              "    <tr>\n",
              "      <th>1</th>\n",
              "      <td>Yes</td>\n",
              "      <td>Yes</td>\n",
              "      <td>No</td>\n",
              "      <td>Yes</td>\n",
              "      <td>Yes</td>\n",
              "      <td>Yes</td>\n",
              "      <td>Yes</td>\n",
              "      <td>Yes</td>\n",
              "      <td>Yes</td>\n",
              "      <td>No</td>\n",
              "      <td>No</td>\n",
              "      <td>+2</td>\n",
              "      <td>51</td>\n",
              "      <td>Every three months</td>\n",
              "      <td>Female</td>\n",
              "    </tr>\n",
              "    <tr>\n",
              "      <th>2</th>\n",
              "      <td>No</td>\n",
              "      <td>Yes</td>\n",
              "      <td>Yes</td>\n",
              "      <td>Yes</td>\n",
              "      <td>Yes</td>\n",
              "      <td>Yes</td>\n",
              "      <td>No</td>\n",
              "      <td>Yes</td>\n",
              "      <td>Yes</td>\n",
              "      <td>Yes</td>\n",
              "      <td>No</td>\n",
              "      <td>+1</td>\n",
              "      <td>62</td>\n",
              "      <td>Every three months</td>\n",
              "      <td>Female</td>\n",
              "    </tr>\n",
              "    <tr>\n",
              "      <th>3</th>\n",
              "      <td>Yes</td>\n",
              "      <td>Yes</td>\n",
              "      <td>No</td>\n",
              "      <td>Yes</td>\n",
              "      <td>Yes</td>\n",
              "      <td>Yes</td>\n",
              "      <td>Yes</td>\n",
              "      <td>Yes</td>\n",
              "      <td>No</td>\n",
              "      <td>No</td>\n",
              "      <td>Yes</td>\n",
              "      <td>+4</td>\n",
              "      <td>69</td>\n",
              "      <td>Once a week</td>\n",
              "      <td>Female</td>\n",
              "    </tr>\n",
              "    <tr>\n",
              "      <th>4</th>\n",
              "      <td>No</td>\n",
              "      <td>Yes</td>\n",
              "      <td>No</td>\n",
              "      <td>Yes</td>\n",
              "      <td>Yes</td>\n",
              "      <td>Yes</td>\n",
              "      <td>Yes</td>\n",
              "      <td>No</td>\n",
              "      <td>No</td>\n",
              "      <td>Yes</td>\n",
              "      <td>No</td>\n",
              "      <td>+2</td>\n",
              "      <td>49</td>\n",
              "      <td>Once a month</td>\n",
              "      <td>Male</td>\n",
              "    </tr>\n",
              "  </tbody>\n",
              "</table>\n",
              "</div>\n",
              "    <div class=\"colab-df-buttons\">\n",
              "\n",
              "  <div class=\"colab-df-container\">\n",
              "    <button class=\"colab-df-convert\" onclick=\"convertToInteractive('df-009ec7ae-c78b-4f0b-a6f9-a6d91ad54b5e')\"\n",
              "            title=\"Convert this dataframe to an interactive table.\"\n",
              "            style=\"display:none;\">\n",
              "\n",
              "  <svg xmlns=\"http://www.w3.org/2000/svg\" height=\"24px\" viewBox=\"0 -960 960 960\">\n",
              "    <path d=\"M120-120v-720h720v720H120Zm60-500h600v-160H180v160Zm220 220h160v-160H400v160Zm0 220h160v-160H400v160ZM180-400h160v-160H180v160Zm440 0h160v-160H620v160ZM180-180h160v-160H180v160Zm440 0h160v-160H620v160Z\"/>\n",
              "  </svg>\n",
              "    </button>\n",
              "\n",
              "  <style>\n",
              "    .colab-df-container {\n",
              "      display:flex;\n",
              "      gap: 12px;\n",
              "    }\n",
              "\n",
              "    .colab-df-convert {\n",
              "      background-color: #E8F0FE;\n",
              "      border: none;\n",
              "      border-radius: 50%;\n",
              "      cursor: pointer;\n",
              "      display: none;\n",
              "      fill: #1967D2;\n",
              "      height: 32px;\n",
              "      padding: 0 0 0 0;\n",
              "      width: 32px;\n",
              "    }\n",
              "\n",
              "    .colab-df-convert:hover {\n",
              "      background-color: #E2EBFA;\n",
              "      box-shadow: 0px 1px 2px rgba(60, 64, 67, 0.3), 0px 1px 3px 1px rgba(60, 64, 67, 0.15);\n",
              "      fill: #174EA6;\n",
              "    }\n",
              "\n",
              "    .colab-df-buttons div {\n",
              "      margin-bottom: 4px;\n",
              "    }\n",
              "\n",
              "    [theme=dark] .colab-df-convert {\n",
              "      background-color: #3B4455;\n",
              "      fill: #D2E3FC;\n",
              "    }\n",
              "\n",
              "    [theme=dark] .colab-df-convert:hover {\n",
              "      background-color: #434B5C;\n",
              "      box-shadow: 0px 1px 3px 1px rgba(0, 0, 0, 0.15);\n",
              "      filter: drop-shadow(0px 1px 2px rgba(0, 0, 0, 0.3));\n",
              "      fill: #FFFFFF;\n",
              "    }\n",
              "  </style>\n",
              "\n",
              "    <script>\n",
              "      const buttonEl =\n",
              "        document.querySelector('#df-009ec7ae-c78b-4f0b-a6f9-a6d91ad54b5e button.colab-df-convert');\n",
              "      buttonEl.style.display =\n",
              "        google.colab.kernel.accessAllowed ? 'block' : 'none';\n",
              "\n",
              "      async function convertToInteractive(key) {\n",
              "        const element = document.querySelector('#df-009ec7ae-c78b-4f0b-a6f9-a6d91ad54b5e');\n",
              "        const dataTable =\n",
              "          await google.colab.kernel.invokeFunction('convertToInteractive',\n",
              "                                                    [key], {});\n",
              "        if (!dataTable) return;\n",
              "\n",
              "        const docLinkHtml = 'Like what you see? Visit the ' +\n",
              "          '<a target=\"_blank\" href=https://colab.research.google.com/notebooks/data_table.ipynb>data table notebook</a>'\n",
              "          + ' to learn more about interactive tables.';\n",
              "        element.innerHTML = '';\n",
              "        dataTable['output_type'] = 'display_data';\n",
              "        await google.colab.output.renderOutput(dataTable, element);\n",
              "        const docLink = document.createElement('div');\n",
              "        docLink.innerHTML = docLinkHtml;\n",
              "        element.appendChild(docLink);\n",
              "      }\n",
              "    </script>\n",
              "  </div>\n",
              "\n",
              "\n",
              "<div id=\"df-e78ddabb-642d-4d6a-980b-c4f4c9101bd6\">\n",
              "  <button class=\"colab-df-quickchart\" onclick=\"quickchart('df-e78ddabb-642d-4d6a-980b-c4f4c9101bd6')\"\n",
              "            title=\"Suggest charts.\"\n",
              "            style=\"display:none;\">\n",
              "\n",
              "<svg xmlns=\"http://www.w3.org/2000/svg\" height=\"24px\"viewBox=\"0 0 24 24\"\n",
              "     width=\"24px\">\n",
              "    <g>\n",
              "        <path d=\"M19 3H5c-1.1 0-2 .9-2 2v14c0 1.1.9 2 2 2h14c1.1 0 2-.9 2-2V5c0-1.1-.9-2-2-2zM9 17H7v-7h2v7zm4 0h-2V7h2v10zm4 0h-2v-4h2v4z\"/>\n",
              "    </g>\n",
              "</svg>\n",
              "  </button>\n",
              "\n",
              "<style>\n",
              "  .colab-df-quickchart {\n",
              "      --bg-color: #E8F0FE;\n",
              "      --fill-color: #1967D2;\n",
              "      --hover-bg-color: #E2EBFA;\n",
              "      --hover-fill-color: #174EA6;\n",
              "      --disabled-fill-color: #AAA;\n",
              "      --disabled-bg-color: #DDD;\n",
              "  }\n",
              "\n",
              "  [theme=dark] .colab-df-quickchart {\n",
              "      --bg-color: #3B4455;\n",
              "      --fill-color: #D2E3FC;\n",
              "      --hover-bg-color: #434B5C;\n",
              "      --hover-fill-color: #FFFFFF;\n",
              "      --disabled-bg-color: #3B4455;\n",
              "      --disabled-fill-color: #666;\n",
              "  }\n",
              "\n",
              "  .colab-df-quickchart {\n",
              "    background-color: var(--bg-color);\n",
              "    border: none;\n",
              "    border-radius: 50%;\n",
              "    cursor: pointer;\n",
              "    display: none;\n",
              "    fill: var(--fill-color);\n",
              "    height: 32px;\n",
              "    padding: 0;\n",
              "    width: 32px;\n",
              "  }\n",
              "\n",
              "  .colab-df-quickchart:hover {\n",
              "    background-color: var(--hover-bg-color);\n",
              "    box-shadow: 0 1px 2px rgba(60, 64, 67, 0.3), 0 1px 3px 1px rgba(60, 64, 67, 0.15);\n",
              "    fill: var(--button-hover-fill-color);\n",
              "  }\n",
              "\n",
              "  .colab-df-quickchart-complete:disabled,\n",
              "  .colab-df-quickchart-complete:disabled:hover {\n",
              "    background-color: var(--disabled-bg-color);\n",
              "    fill: var(--disabled-fill-color);\n",
              "    box-shadow: none;\n",
              "  }\n",
              "\n",
              "  .colab-df-spinner {\n",
              "    border: 2px solid var(--fill-color);\n",
              "    border-color: transparent;\n",
              "    border-bottom-color: var(--fill-color);\n",
              "    animation:\n",
              "      spin 1s steps(1) infinite;\n",
              "  }\n",
              "\n",
              "  @keyframes spin {\n",
              "    0% {\n",
              "      border-color: transparent;\n",
              "      border-bottom-color: var(--fill-color);\n",
              "      border-left-color: var(--fill-color);\n",
              "    }\n",
              "    20% {\n",
              "      border-color: transparent;\n",
              "      border-left-color: var(--fill-color);\n",
              "      border-top-color: var(--fill-color);\n",
              "    }\n",
              "    30% {\n",
              "      border-color: transparent;\n",
              "      border-left-color: var(--fill-color);\n",
              "      border-top-color: var(--fill-color);\n",
              "      border-right-color: var(--fill-color);\n",
              "    }\n",
              "    40% {\n",
              "      border-color: transparent;\n",
              "      border-right-color: var(--fill-color);\n",
              "      border-top-color: var(--fill-color);\n",
              "    }\n",
              "    60% {\n",
              "      border-color: transparent;\n",
              "      border-right-color: var(--fill-color);\n",
              "    }\n",
              "    80% {\n",
              "      border-color: transparent;\n",
              "      border-right-color: var(--fill-color);\n",
              "      border-bottom-color: var(--fill-color);\n",
              "    }\n",
              "    90% {\n",
              "      border-color: transparent;\n",
              "      border-bottom-color: var(--fill-color);\n",
              "    }\n",
              "  }\n",
              "</style>\n",
              "\n",
              "  <script>\n",
              "    async function quickchart(key) {\n",
              "      const quickchartButtonEl =\n",
              "        document.querySelector('#' + key + ' button');\n",
              "      quickchartButtonEl.disabled = true;  // To prevent multiple clicks.\n",
              "      quickchartButtonEl.classList.add('colab-df-spinner');\n",
              "      try {\n",
              "        const charts = await google.colab.kernel.invokeFunction(\n",
              "            'suggestCharts', [key], {});\n",
              "      } catch (error) {\n",
              "        console.error('Error during call to suggestCharts:', error);\n",
              "      }\n",
              "      quickchartButtonEl.classList.remove('colab-df-spinner');\n",
              "      quickchartButtonEl.classList.add('colab-df-quickchart-complete');\n",
              "    }\n",
              "    (() => {\n",
              "      let quickchartButtonEl =\n",
              "        document.querySelector('#df-e78ddabb-642d-4d6a-980b-c4f4c9101bd6 button');\n",
              "      quickchartButtonEl.style.display =\n",
              "        google.colab.kernel.accessAllowed ? 'block' : 'none';\n",
              "    })();\n",
              "  </script>\n",
              "</div>\n",
              "    </div>\n",
              "  </div>\n"
            ]
          },
          "metadata": {},
          "execution_count": 4
        }
      ]
    },
    {
      "cell_type": "code",
      "source": [
        "data.shape"
      ],
      "metadata": {
        "colab": {
          "base_uri": "https://localhost:8080/"
        },
        "id": "m4q-mhPgv4lK",
        "outputId": "929de557-8068-4874-8b81-2ec495198135"
      },
      "execution_count": null,
      "outputs": [
        {
          "output_type": "execute_result",
          "data": {
            "text/plain": [
              "(1453, 15)"
            ]
          },
          "metadata": {},
          "execution_count": 5
        }
      ]
    },
    {
      "cell_type": "code",
      "source": [
        "data.isnull().sum()"
      ],
      "metadata": {
        "colab": {
          "base_uri": "https://localhost:8080/"
        },
        "id": "GToClSoXv4pp",
        "outputId": "7d73a9a1-6ff0-4c8e-af07-d496ecc701fe"
      },
      "execution_count": null,
      "outputs": [
        {
          "output_type": "execute_result",
          "data": {
            "text/plain": [
              "yummy             0\n",
              "convenient        0\n",
              "spicy             0\n",
              "fattening         0\n",
              "greasy            0\n",
              "fast              0\n",
              "cheap             0\n",
              "tasty             0\n",
              "expensive         0\n",
              "healthy           0\n",
              "disgusting        0\n",
              "Like              0\n",
              "Age               0\n",
              "VisitFrequency    0\n",
              "Gender            0\n",
              "dtype: int64"
            ]
          },
          "metadata": {},
          "execution_count": 6
        }
      ]
    },
    {
      "cell_type": "code",
      "source": [
        "mdx = data.iloc[:, 0:11].values\n",
        "\n",
        "# Convert \"Yes\" to 1 and everything else to 0\n",
        "mdx = (mdx == \"Yes\").astype(int)\n",
        "\n",
        "# Calculate the column means and round to 2 decimal place\n",
        "col_means = np.round(mdx.mean(axis=0), 2)\n",
        "\n",
        "print(col_means)"
      ],
      "metadata": {
        "colab": {
          "base_uri": "https://localhost:8080/"
        },
        "id": "4krGLj7Nwl5P",
        "outputId": "5488717c-dd89-4e20-c7ae-e00541e9b513"
      },
      "execution_count": null,
      "outputs": [
        {
          "output_type": "stream",
          "name": "stdout",
          "text": [
            "[0.55 0.91 0.09 0.87 0.53 0.9  0.6  0.64 0.36 0.2  0.24]\n"
          ]
        }
      ]
    },
    {
      "cell_type": "code",
      "source": [
        "from sklearn.decomposition import PCA\n",
        "\n",
        "# Assuming you have a numpy array mdx as defined in the previous answer\n",
        "# Perform PCA\n",
        "pca = PCA()\n",
        "MD_pca = pca.fit_transform(mdx)\n",
        "\n",
        "# Print the summary\n",
        "print(\"Proportion of Variance Explained:\")\n",
        "print(np.round(pca.explained_variance_ratio_, 2))\n",
        "print(\"\\nPrincipal Components:\")\n",
        "print(np.round(pca.components_, 2))\n"
      ],
      "metadata": {
        "colab": {
          "base_uri": "https://localhost:8080/"
        },
        "id": "NFj3HZGGwl99",
        "outputId": "b802285b-7d53-4659-989c-717e0fb81b7a"
      },
      "execution_count": null,
      "outputs": [
        {
          "output_type": "stream",
          "name": "stdout",
          "text": [
            "Proportion of Variance Explained:\n",
            "[0.3  0.19 0.13 0.08 0.06 0.05 0.04 0.04 0.04 0.03 0.03]\n",
            "\n",
            "Principal Components:\n",
            "[[-0.48 -0.16 -0.01  0.12  0.3  -0.11 -0.34 -0.47  0.33 -0.21  0.37]\n",
            " [ 0.36  0.02  0.02 -0.03 -0.06 -0.09 -0.61  0.31  0.6   0.08 -0.14]\n",
            " [-0.3  -0.06 -0.04 -0.32 -0.8  -0.06 -0.15 -0.29  0.02  0.19 -0.09]\n",
            " [ 0.06 -0.14  0.2  -0.35  0.25 -0.1   0.12 -0.    0.07  0.76  0.37]\n",
            " [-0.31  0.28  0.07 -0.07  0.36  0.11 -0.13 -0.21 -0.    0.29 -0.73]\n",
            " [ 0.17 -0.35 -0.36 -0.41  0.21 -0.59 -0.1  -0.08 -0.26 -0.18 -0.21]\n",
            " [-0.28 -0.06  0.71 -0.39  0.04 -0.09 -0.04  0.36 -0.07 -0.35 -0.03]\n",
            " [ 0.01 -0.11  0.38  0.59 -0.14 -0.63  0.14 -0.07  0.03  0.18 -0.17]\n",
            " [ 0.57 -0.02  0.4  -0.16 -0.    0.17  0.08 -0.64  0.07 -0.19 -0.07]\n",
            " [-0.11 -0.67 -0.08 -0.01  0.01  0.24  0.43  0.08  0.45 -0.04 -0.29]\n",
            " [ 0.05 -0.54  0.14  0.25  0.    0.34 -0.49  0.02 -0.49  0.16 -0.04]]\n"
          ]
        }
      ]
    },
    {
      "cell_type": "code",
      "source": [
        "np.set_printoptions(precision=1, suppress=True)\n",
        "print(MD_pca)"
      ],
      "metadata": {
        "colab": {
          "base_uri": "https://localhost:8080/"
        },
        "id": "g8UAVy-gwmB1",
        "outputId": "8c1df0cd-a614-4145-c795-1cc230f60c71"
      },
      "execution_count": null,
      "outputs": [
        {
          "output_type": "stream",
          "name": "stdout",
          "text": [
            "[[ 0.4 -0.2  0.7 ...  0.2  0.5 -0.6]\n",
            " [-0.2  0.4 -0.7 ...  0.1  0.5 -0.5]\n",
            " [ 0.4  0.7 -0.1 ... -0.3  0.1  0.2]\n",
            " ...\n",
            " [-0.2  1.1  0.2 ...  0.   0.1 -0. ]\n",
            " [-1.2 -0.   0.6 ...  0.  -0.  -0.1]\n",
            " [ 1.6  0.3 -0.  ... -0.1 -0.4 -0.5]]\n"
          ]
        }
      ]
    },
    {
      "cell_type": "code",
      "source": [
        "\n",
        "from sklearn.preprocessing import StandardScaler\n",
        "\n",
        "# Assuming you have a numpy array mdx as defined in the previous answers\n",
        "# Standardize the data (optional but often recommended for PCA)\n",
        "scaler = StandardScaler()\n",
        "MD_x_std = scaler.fit_transform(mdx)\n",
        "\n",
        "# Perform PCA\n",
        "pca = PCA()\n",
        "MD_pca = pca.fit_transform(MD_x_std)\n",
        "\n",
        "# Plot PCA results\n",
        "plt.figure(figsize=(8, 6))\n",
        "plt.scatter(MD_pca[:, 0], MD_pca[:, 1], color='grey')\n",
        "plt.xlabel('Principal Component 1')\n",
        "plt.ylabel('Principal Component 2')\n",
        "plt.title('PCA Projection')\n",
        "plt.grid(True)\n",
        "\n",
        "# Project Axes\n",
        "plt.figure(figsize=(8, 6))\n",
        "for length, vector in zip(pca.explained_variance_, pca.components_):\n",
        "    v = vector[:2] * 3 * np.sqrt(length)\n",
        "    plt.plot([0, v[0]], [0, v[1]], 'k-', lw=2)\n",
        "plt.xlabel('Principal Component 1')\n",
        "plt.ylabel('Principal Component 2')\n",
        "plt.title('PCA Axes Projection')\n",
        "plt.grid(True)\n",
        "\n",
        "plt.show()"
      ],
      "metadata": {
        "colab": {
          "base_uri": "https://localhost:8080/",
          "height": 1000
        },
        "id": "ySG9NQ141dm8",
        "outputId": "ebf99af6-921a-4517-bcfd-830920572765"
      },
      "execution_count": null,
      "outputs": [
        {
          "output_type": "display_data",
          "data": {
            "text/plain": [
              "<Figure size 800x600 with 1 Axes>"
            ],
            "image/png": "[encoded data removed]"
          },
          "metadata": {}
        },
        {
          "output_type": "display_data",
          "data": {
            "text/plain": [
              "<Figure size 800x600 with 1 Axes>"
            ],
            "image/png": "[encoded data removed]"
          },
          "metadata": {}
        }
      ]
    },
    {
      "cell_type": "code",
      "source": [
        "from sklearn.cluster import KMeans\n",
        "\n",
        "# Set the random seed\n",
        "np.random.seed(1234)\n",
        "\n",
        "# Define the number of clusters (2 to 8 clusters)\n",
        "num_clusters = range(2, 9)\n",
        "\n",
        "# Initialize variables to store the clustering results\n",
        "best_cluster_labels = None\n",
        "best_cluster_centers = None\n",
        "best_inertia = float(\"inf\")\n",
        "\n",
        "# Perform k-means clustering with different numbers of clusters\n",
        "for num_cluster in num_clusters:\n",
        "    kmeans = KMeans(n_clusters=num_cluster, n_init=10, random_state=1234)\n",
        "    cluster_labels = kmeans.fit_predict(MD_x_std)\n",
        "    cluster_centers = kmeans.cluster_centers_\n",
        "    inertia = kmeans.inertia_\n",
        "\n",
        "    if inertia < best_inertia:\n",
        "        best_inertia = inertia\n",
        "        best_cluster_labels = cluster_labels\n",
        "        best_cluster_centers = cluster_centers\n",
        "\n",
        "# The best clustering result is stored in best_cluster_labels\n",
        "# You can relabel the clusters if needed\n",
        "# For simplicity, we'll use the cluster labels as they are\n",
        "MD_km28 = best_cluster_labels\n"
      ],
      "metadata": {
        "id": "4mKWr64x1dsG"
      },
      "execution_count": null,
      "outputs": []
    },
    {
      "cell_type": "code",
      "source": [
        "\n",
        "# Initialize a list to store the inertia values (within-cluster sum of squares)\n",
        "inertia_values = []\n",
        "\n",
        "# Perform k-means clustering with different numbers of clusters and store inertia values\n",
        "for num_cluster in num_clusters:\n",
        "    kmeans = KMeans(n_clusters=num_cluster, n_init=10, random_state=1234)\n",
        "    kmeans.fit(MD_x_std)\n",
        "    inertia_values.append(kmeans.inertia_)\n",
        "\n",
        "# Create a plot to visualize the inertia values vs. number of clusters\n",
        "plt.figure(figsize=(8, 6))\n",
        "plt.plot(num_clusters, inertia_values, marker='o', linestyle='-', color='b')\n",
        "plt.xlabel('Number of Segments (Clusters)')\n",
        "plt.ylabel('Inertia (Within-Cluster Sum of Squares)')\n",
        "plt.title('Elbow Method for Optimal Cluster Number Selection')\n",
        "plt.grid(True)\n",
        "plt.show()\n"
      ],
      "metadata": {
        "colab": {
          "base_uri": "https://localhost:8080/",
          "height": 564
        },
        "id": "xpsHivZM3Kew",
        "outputId": "0cebc04d-2b73-4b07-f34f-1b05f789f7ce"
      },
      "execution_count": null,
      "outputs": [
        {
          "output_type": "display_data",
          "data": {
            "text/plain": [
              "<Figure size 800x600 with 1 Axes>"
            ],
            "image/png": "[encoded data removed]"
          },
          "metadata": {}
        }
      ]
    },
    {
      "cell_type": "code",
      "source": [
        "import numpy as np\n",
        "from sklearn.cluster import KMeans\n",
        "from sklearn.metrics import adjusted_rand_score\n",
        "from sklearn.utils import resample\n",
        "import matplotlib.pyplot as plt\n",
        "\n",
        "# Assuming you have a numpy array MD_x as defined in previous answers\n",
        "# Set the random seed\n",
        "np.random.seed(1234)\n",
        "\n",
        "# Define the range of cluster numbers (2 to 8 clusters)\n",
        "num_clusters = range(2, 9)\n",
        "\n",
        "# Number of bootstrap iterations\n",
        "nboot = 100\n",
        "\n",
        "# Number of repetitions for each cluster number\n",
        "nrep = 10\n",
        "\n",
        "# Initialize lists to store results\n",
        "adjusted_rand_indices = []\n",
        "\n",
        "# Perform bootstrapping with k-means clustering and calculate adjusted Rand indices\n",
        "for num_cluster in num_clusters:\n",
        "    cluster_results = []\n",
        "\n",
        "    for _ in range(nrep):\n",
        "        rand_indices = []\n",
        "\n",
        "        for _ in range(nboot):\n",
        "            # Resample the data with replacement\n",
        "            bootstrap_sample = resample(mdx, random_state=1234)\n",
        "\n",
        "            # Perform k-means clustering on the bootstrap sample\n",
        "            kmeans = KMeans(n_clusters=num_cluster, n_init=10, random_state=1234)\n",
        "            cluster_labels = kmeans.fit_predict(bootstrap_sample)\n",
        "\n",
        "            # Calculate the adjusted Rand index\n",
        "            true_labels = np.random.choice(range(num_cluster), len(cluster_labels))\n",
        "            rand_index = adjusted_rand_score(true_labels, cluster_labels)\n",
        "            rand_indices.append(rand_index)\n",
        "\n",
        "        cluster_results.append(np.mean(rand_indices))\n",
        "\n",
        "    # Calculate the average adjusted Rand index for this cluster number and store it\n",
        "    adjusted_rand_indices.append(np.mean(cluster_results))\n",
        "\n",
        "# Create a plot to visualize the adjusted Rand indices vs. the number of clusters\n",
        "plt.figure(figsize=(8, 6))\n",
        "plt.plot(num_clusters, adjusted_rand_indices, marker='o', linestyle='-', color='b')\n",
        "plt.xlabel('Number of Segments (Clusters)')\n",
        "plt.ylabel('Adjusted Rand Index')\n",
        "plt.title('Adjusted Rand Index vs. Number of Clusters')\n",
        "plt.grid(True)\n",
        "plt.show()\n"
      ],
      "metadata": {
        "colab": {
          "base_uri": "https://localhost:8080/",
          "height": 564
        },
        "id": "LQwpwqKxZULz",
        "outputId": "cd8b6f72-5235-4d4f-8dca-d7e4f0cbd310"
      },
      "execution_count": null,
      "outputs": [
        {
          "output_type": "display_data",
          "data": {
            "text/plain": [
              "<Figure size 800x600 with 1 Axes>"
            ],
            "image/png": "[encoded data removed]"
          },
          "metadata": {}
        }
      ]
    },
    {
      "cell_type": "code",
      "source": [
        "import matplotlib.pyplot as plt\n",
        "import numpy as np\n",
        "\n",
        "# Assuming MD_km28 contains the cluster labels for 4 clusters\n",
        "cluster_labels = MD_km28[\"4\"]\n",
        "\n",
        "# Extract the data corresponding to cluster 4\n",
        "cluster_data = MD_x[cluster_labels == 3]  # Adjust the cluster label as needed\n",
        "\n",
        "# Create a histogram\n",
        "plt.figure(figsize=(8, 6))\n",
        "plt.hist(cluster_data, bins=np.linspace(0, 1, 11), edgecolor='k', alpha=0.7)\n",
        "plt.xlim(0, 1)\n",
        "plt.xlabel('Value')\n",
        "plt.ylabel('Frequency')\n",
        "plt.title('Histogram for Cluster 4')\n",
        "plt.grid(True)\n",
        "plt.show()\n"
      ],
      "metadata": {
        "id": "G4FupY6NZT4L"
      },
      "execution_count": null,
      "outputs": []
    },
    {
      "cell_type": "code",
      "source": [
        "import matplotlib.pyplot as plt\n",
        "from sklearn.metrics import silhouette_samples, silhouette_score\n",
        "\n",
        "# Assuming MD_km28 contains the cluster labels for your data\n",
        "cluster_labels = MD_km28\n",
        "\n",
        "# Calculate the silhouette scores for each sample\n",
        "silhouette_avg = silhouette_score(MD_x_std, cluster_labels)\n",
        "sample_silhouette_values = silhouette_samples(MD_x_std, cluster_labels)\n",
        "\n",
        "# Create a subplot with a single row and two columns\n",
        "fig, ax = plt.subplots(1, 1)\n",
        "fig.set_size_inches(8, 6)\n",
        "\n",
        "# The silhouette plot displays a horizontal bar for each sample\n",
        "y_lower = 10  # Adjust this value based on your data and plot preferences\n",
        "\n",
        "for i in range(num_clusters):\n",
        "    # Aggregate the silhouette scores for samples belonging to the current cluster\n",
        "    ith_cluster_silhouette_values = sample_silhouette_values[cluster_labels == i]\n",
        "    ith_cluster_silhouette_values.sort()\n",
        "\n",
        "    size_cluster_i = ith_cluster_silhouette_values.shape[0]\n",
        "    y_upper = y_lower + size_cluster_i\n",
        "\n",
        "    color = plt.cm.get_cmap(\"Spectral\")(float(i) / num_clusters)\n",
        "    ax.fill_betweenx(np.arange(y_lower, y_upper), 0, ith_cluster_silhouette_values, facecolor=color, edgecolor=color, alpha=0.7)\n",
        "\n",
        "    # Label the silhouette plots with their cluster numbers at the middle\n",
        "    ax.text(-0.05, y_lower + 0.5 * size_cluster_i, str(i))\n",
        "\n",
        "    # Compute the new y_lower for the next plot\n",
        "    y_lower = y_upper + 10  # 10 for the 0 samples\n",
        "\n",
        "ax.set_title(\"Silhouette Plot for K-Means Clustering\")\n",
        "ax.set_xlabel(\"Silhouette Coefficient Values\")\n",
        "ax.set_ylabel(\"Cluster Label\")\n",
        "\n",
        "# The vertical line indicates the average silhouette score\n",
        "ax.axvline(x=silhouette_avg, color=\"red\", linestyle=\"--\")\n",
        "ax.set_yticks([])  # Clear the y-axis labels\n",
        "\n",
        "plt.show()\n"
      ],
      "metadata": {
        "id": "y6tO3cQ-Ompx"
      },
      "execution_count": null,
      "outputs": []
    },
    {
      "cell_type": "code",
      "source": [
        "# Assuming MD_km28 contains the cluster labels for your data\n",
        "cluster_number = 4  # Specify the cluster number you want to extract\n",
        "\n",
        "# Extract the cluster assignments for the specified cluster\n",
        "cluster_assignments = np.where(cluster_labels == cluster_number)[0]\n",
        "\n",
        "# Now, cluster_assignments contains the indices of data points belonging to cluster 4\n",
        "# You can use these indices to access the data points or perform further analysis\n",
        "\n",
        "from sklearn.metrics import silhouette_samples\n",
        "\n",
        "# Assuming MD_k4 contains the cluster assignments for cluster 4\n",
        "cluster_number = 4  # Specify the cluster number for which you want to calculate the silhouette width\n",
        "\n",
        "# Calculate the silhouette widths for the data points in cluster 4\n",
        "silhouette_widths = silhouette_samples(MD_x_std, MD_km28 == cluster_number)\n",
        "\n",
        "# Now, silhouette_widths contains the silhouette widths for the data points in cluster 4\n",
        "# You can use these values for further analysis or visualization\n",
        "\n"
      ],
      "metadata": {
        "id": "Sp7BjEWMauLm"
      },
      "execution_count": null,
      "outputs": []
    },
    {
      "cell_type": "code",
      "source": [
        "import matplotlib.pyplot as plt\n",
        "import numpy as np\n",
        "\n",
        "# Generate some example data for segment stability (replace with your actual data)\n",
        "segment_stability = np.random.rand(10)  # Replace with your segment stability values\n",
        "segment_numbers = np.arange(1, 11)  # Assuming you have 10 segments\n",
        "\n",
        "# Create a plot for segment stability\n",
        "plt.figure(figsize=(8, 6))\n",
        "plt.plot(segment_numbers, segment_stability, marker='o', linestyle='-', color='b')\n",
        "plt.ylim(0, 1)  # Set the y-axis limits to 0 and 1\n",
        "plt.xlabel('Segment Number')\n",
        "plt.ylabel('Segment Stability')\n",
        "plt.title('Segment Stability Plot')\n",
        "plt.grid(True)\n",
        "plt.show()\n"
      ],
      "metadata": {
        "id": "vAapP8mFauP0"
      },
      "execution_count": null,
      "outputs": []
    },
    {
      "cell_type": "code",
      "source": [
        "pip install mixtools"
      ],
      "metadata": {
        "id": "Q7oCN71DbHvB"
      },
      "execution_count": null,
      "outputs": []
    },
    {
      "cell_type": "code",
      "source": [
        "import numpy as np\n",
        "import mixtools as mt\n",
        "from sklearn.preprocessing import StandardScaler\n",
        "\n",
        "# Assuming you have a numpy array MD_x as your data\n",
        "\n",
        "# Standardize the data (recommended for model-based clustering)\n",
        "scaler = StandardScaler()\n",
        "MD_x_std = scaler.fit_transform(MD_x)\n",
        "\n",
        "# Set the random seed\n",
        "np.random.seed(1234)\n",
        "\n",
        "# Define the range of cluster numbers (2 to 8 clusters)\n",
        "num_clusters = range(2, 9)\n",
        "\n",
        "# Number of repetitions for each cluster number\n",
        "nrep = 10\n",
        "\n",
        "# Initialize a list to store the model-based clustering results\n",
        "cluster_results = []\n",
        "\n",
        "# Perform model-based clustering with different numbers of clusters\n",
        "for num_cluster in num_clusters:\n",
        "    cluster_results_rep = []\n",
        "\n",
        "    for _ in range(nrep):\n",
        "        # Fit a mixture model with the specified number of clusters\n",
        "        model = mt.MixtureModel(num_cluster, model_type=\"mvbinary\")\n",
        "        model.fit(MD_x_std)\n",
        "\n",
        "        # Extract cluster assignments for each data point\n",
        "        cluster_labels = model.predict(MD_x_std)\n",
        "\n",
        "        cluster_results_rep.append(cluster_labels)\n",
        "\n",
        "    # Store the clustering results for this cluster number\n",
        "    cluster_results.append(cluster_results_rep)\n",
        "\n",
        "# The cluster_results list now contains the clustering results for different cluster numbers and repetitions\n",
        "# You can access and analyze the results as needed\n"
      ],
      "metadata": {
        "id": "gvqOvb1EbH7G"
      },
      "execution_count": null,
      "outputs": []
    },
    {
      "cell_type": "code",
      "source": [
        "import pandas as pd\n",
        "from sklearn.metrics import confusion_matrix\n",
        "\n",
        "# Assuming MD.k4 contains the cluster assignments from k-means clustering\n",
        "# and MD.m4 contains the cluster assignments from model-based clustering\n",
        "\n",
        "# Create a DataFrame with the cluster assignments\n",
        "df = pd.DataFrame({'kmeans': MD_k4, 'mixture': MD_m4})\n",
        "\n",
        "# Calculate the confusion matrix to compare the two clusterings\n",
        "confusion = confusion_matrix(df['kmeans'], df['mixture'])\n",
        "\n",
        "# Print the table\n",
        "print(pd.DataFrame(confusion, columns=['Cluster 1', 'Cluster 2', 'Cluster 3', ...], index=['Cluster 1', 'Cluster 2', 'Cluster 3', ...]))\n"
      ],
      "metadata": {
        "id": "g_o8G1NCbpYP"
      },
      "execution_count": null,
      "outputs": []
    },
    {
      "cell_type": "code",
      "source": [
        "import pandas as pd\n",
        "from sklearn.metrics import confusion_matrix\n",
        "\n",
        "# Assuming MD.k4 contains the cluster assignments from k-means clustering\n",
        "# and MD.m4a contains the cluster assignments from model-based clustering\n",
        "\n",
        "# Create a DataFrame with the cluster assignments\n",
        "df = pd.DataFrame({'kmeans': MD_k4, 'mixture': MD_m4a.clusters})\n",
        "\n",
        "# Calculate the confusion matrix to compare the two clusterings\n",
        "confusion = confusion_matrix(df['kmeans'], df['mixture'])\n",
        "\n",
        "# Print the table\n",
        "print(pd.DataFrame(confusion, columns=['Cluster 1', 'Cluster 2', 'Cluster 3', ...], index=['Cluster 1', 'Cluster 2', 'Cluster 3', ...]))\n",
        "# Assuming you have fitted MD.m4a and MD.m4 models\n",
        "# MD.m4a corresponds to the model-based clustering with k-means initialization\n",
        "# MD.m4 corresponds to the model-based clustering without k-means initialization\n",
        "\n",
        "# Compute the log-likelihood for MD.m4a\n",
        "log_likelihood_m4a = MD_m4a.log_lik.sum()\n",
        "\n",
        "# Compute the log-likelihood for MD.m4\n",
        "log_likelihood_m4 = MD_m4.log_lik.sum()\n",
        "\n",
        "print(f'Log Likelihood (MD.m4a): {log_likelihood_m4a:.3f}')\n",
        "print(f'Log Likelihood (MD.m4): {log_likelihood_m4:.3f}')\n"
      ],
      "metadata": {
        "id": "LoivFCWFbpcK"
      },
      "execution_count": null,
      "outputs": []
    },
    {
      "cell_type": "code",
      "source": [
        "import pandas as pd\n",
        "\n",
        "# Assuming \"Like\" is the column you want to analyze\n",
        "like_counts = mcdonalds['Like'].value_counts()\n",
        "\n",
        "# Reverse the frequency table\n",
        "reversed_like_counts = like_counts[::-1]\n",
        "\n",
        "print(reversed_like_counts)\n",
        "# Assuming you have a DataFrame 'mcdonalds' and 'Like' is a column in it\n",
        "# Create a new column 'Like.n' by subtracting the 'Like' values from 6\n",
        "mcdonalds['Like.n'] = 6 - mcdonalds['Like']\n",
        "\n",
        "# Calculate the frequency table for the 'Like.n' column\n",
        "like_n_counts = mcdonalds['Like.n'].value_counts()\n",
        "\n",
        "print(like_n_counts)\n"
      ],
      "metadata": {
        "id": "Zagd2wRMcZNt"
      },
      "execution_count": null,
      "outputs": []
    },
    {
      "cell_type": "code",
      "source": [
        "import pandas as pd\n",
        "import statsmodels.formula.api as smf\n",
        "\n",
        "# Assuming you have a DataFrame 'mcdonalds' with columns you want to include in the formula\n",
        "# Create a formula string by concatenating column names\n",
        "formula_str = \"Like.n ~ \" + \" + \".join(mcdonalds.columns[0:11])\n",
        "\n",
        "# Convert the formula string to a formula object\n",
        "formula = smf.ols(formula_str, data=mcdonalds)\n",
        "\n",
        "print(formula)\n"
      ],
      "metadata": {
        "id": "-B2wr24tcZRu"
      },
      "execution_count": null,
      "outputs": []
    },
    {
      "cell_type": "code",
      "source": [
        "import numpy as np\n",
        "import pandas as pd\n",
        "import statsmodels.api as sm\n",
        "from flexmix import flexmix\n",
        "\n",
        "# Assuming you have a DataFrame 'mcdonalds' with your data and the formula 'f' created as mentioned before\n",
        "\n",
        "# Set the random seed\n",
        "np.random.seed(1234)\n",
        "\n",
        "# Perform model-based clustering with regression\n",
        "md_reg2 = flexmix(formula=f, data=mcdonalds, k=2, nrep=10, model=\"MclustR\")\n",
        "\n",
        "# Display the result\n",
        "print(md_reg2)\n"
      ],
      "metadata": {
        "id": "bPZh59JLcZbq"
      },
      "execution_count": null,
      "outputs": []
    },
    {
      "cell_type": "code",
      "source": [
        "import numpy as np\n",
        "from scipy.cluster.hierarchy import linkage, dendrogram\n",
        "import matplotlib.pyplot as plt\n",
        "\n",
        "# Assuming MD_x is a NumPy array containing your data\n",
        "MD_x_transposed = np.transpose(MD_x)\n",
        "\n",
        "# Compute hierarchical clustering using complete linkage and Euclidean distance\n",
        "linkage_matrix = linkage(MD_x_transposed, method='complete', metric='euclidean')\n",
        "\n",
        "# Create a dendrogram\n",
        "plt.figure(figsize=(10, 6))\n",
        "dendrogram(linkage_matrix, orientation='top', labels=MD_x_transposed.columns)\n",
        "plt.title('Hierarchical Clustering Dendrogram')\n",
        "plt.xlabel('Data Points')\n",
        "plt.ylabel('Distance')\n",
        "plt.show()\n"
      ],
      "metadata": {
        "id": "cAmxtKhAdpD6"
      },
      "execution_count": null,
      "outputs": []
    },
    {
      "cell_type": "code",
      "source": [
        "import matplotlib.pyplot as plt\n",
        "import numpy as np\n",
        "\n",
        "# Assuming MD.k4 contains the cluster assignments from k-means clustering\n",
        "# and MD.vclust.order contains the reverse order from hierarchical clustering\n",
        "\n",
        "# Calculate the frequency of each cluster\n",
        "cluster_counts = np.bincount(MD_k4)\n",
        "\n",
        "# Create a bar chart with shading\n",
        "plt.figure(figsize=(8, 6))\n",
        "bars = plt.bar(range(1, len(cluster_counts) + 1), cluster_counts)\n",
        "\n",
        "# Shade the bars based on the reverse order from hierarchical clustering\n",
        "for i, shade in enumerate(reversed(MD_vclust_order)):\n",
        "    bars[i].set_color('lightgray' if shade else 'blue')\n",
        "\n",
        "plt.xlabel('Cluster')\n",
        "plt.ylabel('Frequency')\n",
        "plt.title('Bar Chart with Shading')\n",
        "plt.grid(axis='y', linestyle='--', alpha=0.7)\n",
        "plt.show()\n"
      ],
      "metadata": {
        "id": "pBvzPELEdpNG"
      },
      "execution_count": null,
      "outputs": []
    },
    {
      "cell_type": "code",
      "source": [
        "import matplotlib.pyplot as plt\n",
        "import numpy as np\n",
        "\n",
        "# Assuming MD.k4 contains the cluster assignments from k-means clustering\n",
        "# MD.pca contains the PCA results with two principal components\n",
        "# MD_x is your original data\n",
        "\n",
        "# Define colors for different clusters\n",
        "colors = ['r', 'g', 'b', 'c', 'm', 'y', 'k']  # Add more colors if needed\n",
        "\n",
        "# Create a scatter plot\n",
        "plt.figure(figsize=(10, 6))\n",
        "\n",
        "for cluster_id in np.unique(MD_k4):\n",
        "    plt.scatter(MD_pca[MD_k4 == cluster_id, 0], MD_pca[MD_k4 == cluster_id, 1], label=f'Cluster {cluster_id}', c=colors[cluster_id], alpha=0.7)\n",
        "\n",
        "plt.xlabel('Principal Component 1')\n",
        "plt.ylabel('Principal Component 2')\n",
        "plt.title('Scatter Plot of Clusters on PCA Space')\n",
        "plt.legend()\n",
        "plt.grid(True)\n",
        "plt.show()\n"
      ],
      "metadata": {
        "id": "q1WbyJOQeAe3"
      },
      "execution_count": null,
      "outputs": []
    },
    {
      "cell_type": "code",
      "source": [
        "import pandas as pd\n",
        "import matplotlib.pyplot as plt\n",
        "from statsmodels.graphics.mosaicplot import mosaic\n",
        "\n",
        "# Assuming you have the cluster assignments in 'MD.k4'\n",
        "# and 'mcdonalds' is your DataFrame with the \"Like\" variable\n",
        "\n",
        "# Create a DataFrame with cluster assignments\n",
        "data = pd.DataFrame({'Cluster': MD_k4, 'Like': mcdonalds['Like']})\n",
        "\n",
        "# Create a mosaic plot\n",
        "plt.figure(figsize=(8, 6))\n",
        "mosaic(data, ['Cluster', 'Like'], title='Mosaic Plot')\n",
        "plt.xlabel('Segment Number')\n",
        "plt.ylabel('Like')\n",
        "plt.show()\n"
      ],
      "metadata": {
        "id": "G2dVrNhQeAik"
      },
      "execution_count": null,
      "outputs": []
    },
    {
      "cell_type": "code",
      "source": [
        "import rpy2.robjects as robjects\n",
        "from rpy2.robjects.packages import importr\n",
        "import matplotlib.pyplot as plt\n",
        "\n",
        "# Install and load the 'partykit' package from R\n",
        "utils = importr('utils')\n",
        "utils.install_packages('partykit')\n",
        "partykit = importr('partykit')\n",
        "\n",
        "# Assuming you have the data in a DataFrame 'mcdonalds'\n",
        "# Convert the DataFrame to an R DataFrame\n",
        "robjects.globalenv['mcdonalds'] = robjects.pandas2ri.py2ri(mcdonalds)\n",
        "\n",
        "# Define the formula for the ctree\n",
        "formula = robjects.Formula('factor(k4 == 3) ~ Like.n + Age + VisitFrequency + Gender')\n",
        "\n",
        "# Create the ctree\n",
        "tree = partykit.ctree(formula=formula, data=robjects.globalenv['mcdonalds'])\n",
        "\n",
        "# Plot the ctree\n",
        "partykit.plot_tree(tree)\n",
        "plt.show()\n"
      ],
      "metadata": {
        "id": "KdZ0dp5Vec7v"
      },
      "execution_count": null,
      "outputs": []
    },
    {
      "cell_type": "code",
      "source": [
        "import pandas as pd\n",
        "\n",
        "# Assuming you have a DataFrame 'mcdonalds' and 'k4' contains the cluster assignments\n",
        "\n",
        "# Calculate the mean VisitFrequency for each cluster\n",
        "visit_means = mcdonalds.groupby('k4')['VisitFrequency'].mean()\n",
        "\n",
        "print(visit_means)\n",
        "like_means = mcdonalds.groupby('k4')['Like.n'].mean()\n",
        "\n",
        "print(like_means)\n",
        "import pandas as pd\n",
        "\n",
        "# Assuming you have a DataFrame 'mcdonalds' and 'k4' contains the cluster assignments\n",
        "\n",
        "# Convert \"Gender\" to binary (0 for \"Female\" and 1 for \"Male\")\n",
        "mcdonalds['Gender_binary'] = (mcdonalds['Gender'] == 'Female').astype(int)\n",
        "\n",
        "# Calculate the mean Gender_binary for each cluster\n",
        "female_means = mcdonalds.groupby('k4')['Gender_binary'].mean()\n",
        "\n",
        "print(female_means)\n"
      ],
      "metadata": {
        "id": "6zovgJJPedDS"
      },
      "execution_count": null,
      "outputs": []
    },
    {
      "cell_type": "code",
      "source": [
        "import matplotlib.pyplot as plt\n",
        "\n",
        "# Assuming you have 'visit', 'like', and 'female' calculated as mentioned before\n",
        "# 'visit' and 'like' are Series containing means, and 'female' is a Series containing mean binary values\n",
        "\n",
        "# Create a scatter plot\n",
        "plt.figure(figsize=(10, 6))\n",
        "scatter = plt.scatter(visit, like, c=female, s=10 * female, cmap='viridis')\n",
        "\n",
        "# Customize plot limits\n",
        "plt.xlim(2, 4.5)\n",
        "plt.ylim(-3, 3)\n",
        "\n",
        "# Add text labels for each point\n",
        "for i, txt in enumerate(range(1, len(visit) + 1)):\n",
        "    plt.annotate(txt, (visit[i], like[i]), fontsize=12, ha='center', va='center')\n",
        "\n",
        "# Add colorbar for the 'female' variable\n",
        "cbar = plt.colorbar(scatter)\n",
        "cbar.set_label('Female (0 for Female, 1 for Male)')\n",
        "\n",
        "# Customize axis labels and title\n",
        "plt.xlabel('Visit Frequency Mean')\n",
        "plt.ylabel('Like.n Mean')\n",
        "plt.title('Scatter Plot with Text Labels and Marker Size Based on Female')\n",
        "\n",
        "plt.grid(True)\n",
        "plt.show()\n"
      ],
      "metadata": {
        "id": "KfWxrQRwfOZ8"
      },
      "execution_count": null,
      "outputs": []
    }
  ]
}